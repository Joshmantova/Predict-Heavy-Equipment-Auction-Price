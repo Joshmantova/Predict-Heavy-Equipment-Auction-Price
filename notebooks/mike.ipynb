{
 "cells": [
  {
   "cell_type": "code",
   "execution_count": 1,
   "metadata": {},
   "outputs": [],
   "source": [
    "import pandas as pd\n",
    "import numpy as np"
   ]
  },
  {
   "cell_type": "code",
   "execution_count": 2,
   "metadata": {},
   "outputs": [
    {
     "name": "stderr",
     "output_type": "stream",
     "text": [
      "/home/mike/anaconda3/lib/python3.7/site-packages/IPython/core/interactiveshell.py:3051: DtypeWarning: Columns (13,39,40,41) have mixed types. Specify dtype option on import or set low_memory=False.\n",
      "  interactivity=interactivity, compiler=compiler, result=result)\n"
     ]
    }
   ],
   "source": [
    "df_train = pd.read_csv('../data/Train.csv')\n",
    "df_test = pd.read_csv('../data/test.csv')\n",
    "df_holdout = pd.read_csv('../data/end_of_day/test_actual.csv')"
   ]
  },
  {
   "cell_type": "code",
   "execution_count": 21,
   "metadata": {},
   "outputs": [
    {
     "data": {
      "text/plain": [
       "Index(['SalesID', 'SalePrice', 'MachineID', 'ModelID', 'datasource',\n",
       "       'auctioneerID', 'YearMade', 'MachineHoursCurrentMeter', 'UsageBand',\n",
       "       'saledate', 'fiModelDesc', 'fiBaseModel', 'fiSecondaryDesc',\n",
       "       'fiModelSeries', 'fiModelDescriptor', 'ProductSize',\n",
       "       'fiProductClassDesc', 'state', 'ProductGroup', 'ProductGroupDesc',\n",
       "       'Drive_System', 'Enclosure', 'Forks', 'Pad_Type', 'Ride_Control',\n",
       "       'Stick', 'Transmission', 'Turbocharged', 'Blade_Extension',\n",
       "       'Blade_Width', 'Enclosure_Type', 'Engine_Horsepower', 'Hydraulics',\n",
       "       'Pushblock', 'Ripper', 'Scarifier', 'Tip_Control', 'Tire_Size',\n",
       "       'Coupler', 'Coupler_System', 'Grouser_Tracks', 'Hydraulics_Flow',\n",
       "       'Track_Type', 'Undercarriage_Pad_Width', 'Stick_Length', 'Thumb',\n",
       "       'Pattern_Changer', 'Grouser_Type', 'Backhoe_Mounting', 'Blade_Type',\n",
       "       'Travel_Controls', 'Differential_Type', 'Steering_Controls'],\n",
       "      dtype='object')"
      ]
     },
     "execution_count": 21,
     "metadata": {},
     "output_type": "execute_result"
    }
   ],
   "source": [
    "df_train.columns"
   ]
  },
  {
   "cell_type": "code",
   "execution_count": 3,
   "metadata": {},
   "outputs": [],
   "source": [
    "df_train['saledate'] = pd.to_datetime(df_train.saledate)"
   ]
  },
  {
   "cell_type": "code",
   "execution_count": 4,
   "metadata": {},
   "outputs": [],
   "source": [
    "useful_cols = [\n",
    "    'SalePrice',\n",
    "    'saledate',\n",
    "    'MachineID', \n",
    "    'ModelID', \n",
    "    'YearMade', \n",
    "    'fiModelDesc', \n",
    "    'fiBaseModel', \n",
    "    'fiSecondaryDesc', \n",
    "    'fiModelSeries', \n",
    "    'fiModelDescriptor', \n",
    "    'fiProductClassDesc', \n",
    "    'ProductGroup', \n",
    "    'ProductGroupDesc']"
   ]
  },
  {
   "cell_type": "code",
   "execution_count": 5,
   "metadata": {},
   "outputs": [],
   "source": [
    "df = df_train[useful_cols]"
   ]
  },
  {
   "cell_type": "code",
   "execution_count": 6,
   "metadata": {},
   "outputs": [
    {
     "data": {
      "text/plain": [
       "array(['Backhoe Loaders', 'Motor Graders', 'Skid Steer Loaders',\n",
       "       'Track Excavators', 'Track Type Tractors', 'Wheel Loader'],\n",
       "      dtype=object)"
      ]
     },
     "execution_count": 6,
     "metadata": {},
     "output_type": "execute_result"
    }
   ],
   "source": [
    "np.unique(df.ProductGroupDesc.values)"
   ]
  },
  {
   "cell_type": "code",
   "execution_count": 15,
   "metadata": {},
   "outputs": [],
   "source": [
    "pd.set_option('display.max_rows',500)"
   ]
  },
  {
   "cell_type": "code",
   "execution_count": 19,
   "metadata": {},
   "outputs": [
    {
     "data": {
      "text/plain": [
       "291300     1001\n",
       "291301     1001\n",
       "291302     1001\n",
       "291304     1001\n",
       "291323     1001\n",
       "291903     1001\n",
       "378754     1001\n",
       "361526     1001\n",
       "274913    10017\n",
       "274917    10017\n",
       "274897    10017\n",
       "274898    10017\n",
       "274906    10017\n",
       "274912    10017\n",
       "274905    10017\n",
       "274839    10017\n",
       "274914    10017\n",
       "274910    10017\n",
       "274909    10017\n",
       "274920    10017\n",
       "274921    10017\n",
       "274923    10017\n",
       "274922    10017\n",
       "274924    10017\n",
       "274907    10150\n",
       "274887    10150\n",
       "274888    10150\n",
       "274889    10150\n",
       "274904    10150\n",
       "274903    10150\n",
       "274890    10150\n",
       "274902    10150\n",
       "274901    10150\n",
       "274899    10150\n",
       "274891    10150\n",
       "274896    10150\n",
       "274892    10150\n",
       "274895    10150\n",
       "274893    10150\n",
       "274894    10150\n",
       "274864    10150\n",
       "274911    10150\n",
       "391064    10150\n",
       "274831    10150\n",
       "274830    10150\n",
       "274827    10150\n",
       "274825    10150\n",
       "274824    10150\n",
       "274835    10150\n",
       "274836    10150\n",
       "274837    10150\n",
       "274918    10150\n",
       "274908    10150\n",
       "274916    10150\n",
       "274915    10150\n",
       "274866    10150\n",
       "357363    10150\n",
       "357364    10150\n",
       "274823    10150\n",
       "274822    10150\n",
       "274886    10150\n",
       "357541    10150\n",
       "357542    10150\n",
       "274820    10150\n",
       "8513      10150\n",
       "274885    10150\n",
       "274900    10150\n",
       "275199    10150\n",
       "275219    10150\n",
       "275220    10150\n",
       "275222    10150\n",
       "274884    10150\n",
       "390985    10150\n",
       "274873    10150\n",
       "274874    10150\n",
       "274883    10150\n",
       "275218    10150\n",
       "274882    10150\n",
       "1434      10150\n",
       "274875    10150\n",
       "274876    10150\n",
       "274877    10150\n",
       "274821    10150\n",
       "274878    10150\n",
       "274879    10150\n",
       "274880    10150\n",
       "274881    10150\n",
       "274872    10150\n",
       "376590    10150\n",
       "275208    10150\n",
       "275214    10150\n",
       "275209    10150\n",
       "275211    10150\n",
       "274867    10150\n",
       "275210    10150\n",
       "275207    10150\n",
       "275213    10150\n",
       "275212    10150\n",
       "275206    10150\n",
       "275215    10150\n",
       "Name: ModelID, dtype: object"
      ]
     },
     "execution_count": 19,
     "metadata": {},
     "output_type": "execute_result"
    }
   ],
   "source": [
    "df.ModelID.astype(str).sort_values().head(100)"
   ]
  },
  {
   "cell_type": "code",
   "execution_count": 25,
   "metadata": {},
   "outputs": [
    {
     "data": {
      "text/plain": [
       "OROPS                  173932\n",
       "EROPS                  139026\n",
       "EROPS w AC              87820\n",
       "EROPS AC                   17\n",
       "NO ROPS                     3\n",
       "None or Unspecified         2\n",
       "Name: Enclosure, dtype: int64"
      ]
     },
     "execution_count": 25,
     "metadata": {},
     "output_type": "execute_result"
    }
   ],
   "source": [
    "df_train.Enclosure.value_counts()"
   ]
  },
  {
   "cell_type": "code",
   "execution_count": null,
   "metadata": {},
   "outputs": [],
   "source": []
  }
 ],
 "metadata": {
  "kernelspec": {
   "display_name": "Python 3",
   "language": "python",
   "name": "python3"
  },
  "language_info": {
   "codemirror_mode": {
    "name": "ipython",
    "version": 3
   },
   "file_extension": ".py",
   "mimetype": "text/x-python",
   "name": "python",
   "nbconvert_exporter": "python",
   "pygments_lexer": "ipython3",
   "version": "3.7.5"
  }
 },
 "nbformat": 4,
 "nbformat_minor": 4
}
